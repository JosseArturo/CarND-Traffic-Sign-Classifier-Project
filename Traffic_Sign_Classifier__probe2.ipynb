{
  "nbformat": 4,
  "nbformat_minor": 0,
  "metadata": {
    "colab": {
      "name": "Traffic-Sign-Classifier.ipynb",
      "version": "0.3.2",
      "provenance": [],
      "collapsed_sections": [],
      "include_colab_link": true
    },
    "kernelspec": {
      "name": "python3",
      "display_name": "Python 3"
    },
    "accelerator": "GPU"
  },
  "cells": [
    {
      "cell_type": "markdown",
      "metadata": {
        "id": "view-in-github",
        "colab_type": "text"
      },
      "source": [
        "<a href=\"https://colab.research.google.com/github/JosseArturo/CarND-Traffic-Sign-Classifier-Project/blob/master/Traffic_Sign_Classifier__probe2.ipynb\" target=\"_parent\"><img src=\"https://colab.research.google.com/assets/colab-badge.svg\" alt=\"Open In Colab\"/></a>"
      ]
    },
    {
      "cell_type": "markdown",
      "metadata": {
        "id": "nQEf_-X9_D_6",
        "colab_type": "text"
      },
      "source": [
        "Load Data"
      ]
    },
    {
      "cell_type": "code",
      "metadata": {
        "id": "U6hMQ8JgKvxb",
        "colab_type": "code",
        "outputId": "3b8c339d-a559-4301-fcb0-4c48b2c0bf80",
        "colab": {
          "base_uri": "https://localhost:8080/",
          "height": 121
        }
      },
      "source": [
        "# Load the Drive helper and mount\n",
        "from google.colab import drive\n",
        "\n",
        "# This will prompt for authorization.\n",
        "drive.mount('/content/drive')"
      ],
      "execution_count": 0,
      "outputs": [
        {
          "output_type": "stream",
          "text": [
            "Go to this URL in a browser: https://accounts.google.com/o/oauth2/auth?client_id=947318989803-6bn6qk8qdgf4n4g3pfee6491hc0brc4i.apps.googleusercontent.com&redirect_uri=urn%3Aietf%3Awg%3Aoauth%3A2.0%3Aoob&scope=email%20https%3A%2F%2Fwww.googleapis.com%2Fauth%2Fdocs.test%20https%3A%2F%2Fwww.googleapis.com%2Fauth%2Fdrive%20https%3A%2F%2Fwww.googleapis.com%2Fauth%2Fdrive.photos.readonly%20https%3A%2F%2Fwww.googleapis.com%2Fauth%2Fpeopleapi.readonly&response_type=code\n",
            "\n",
            "Enter your authorization code:\n",
            "··········\n",
            "Mounted at /content/drive\n"
          ],
          "name": "stdout"
        }
      ]
    },
    {
      "cell_type": "code",
      "metadata": {
        "id": "AG_92Kiq_CLy",
        "colab_type": "code",
        "colab": {}
      },
      "source": [
        "# Load pickled data\n",
        "import pickle\n",
        "import numpy as np\n",
        "\n",
        "# TODO: Fill this in based on where you saved the training and testing data\n",
        "\n",
        "training_file = '/content/drive/My Drive/Colab Notebooks/Udacity/Traffic-Sign-Classifier/Data/train.p' \n",
        "validation_file = '/content/drive/My Drive/Colab Notebooks/Udacity/Traffic-Sign-Classifier/Data/valid.p'\n",
        "testing_file = '/content/drive/My Drive/Colab Notebooks/Udacity/Traffic-Sign-Classifier/Data/test.p' \n",
        "\n",
        "with open(training_file, mode='rb') as f:\n",
        "    train = pickle.load(f)\n",
        "with open(validation_file, mode='rb') as f:\n",
        "    valid = pickle.load(f)\n",
        "with open(testing_file, mode='rb') as f:\n",
        "    test = pickle.load(f)\n",
        "    \n",
        "X_train, y_train = train['features'], train['labels']\n",
        "X_valid, y_valid = valid['features'], valid['labels']\n",
        "X_test, y_test = test['features'], test['labels']"
      ],
      "execution_count": 0,
      "outputs": []
    },
    {
      "cell_type": "markdown",
      "metadata": {
        "id": "OpMjIOsxF7vU",
        "colab_type": "text"
      },
      "source": [
        "---\n",
        "\n",
        "## Step 1: Dataset Summary & Exploration\n",
        "\n",
        "The pickled data is a dictionary with 4 key/value pairs:\n",
        "\n",
        "- `'features'` is a 4D array containing raw pixel data of the traffic sign images, (num examples, width, height, channels).\n",
        "- `'labels'` is a 1D array containing the label/class id of the traffic sign. The file `signnames.csv` contains id -> name mappings for each id.\n",
        "- `'sizes'` is a list containing tuples, (width, height) representing the original width and height the image.\n",
        "- `'coords'` is a list containing tuples, (x1, y1, x2, y2) representing coordinates of a bounding box around the sign in the image. **THESE COORDINATES ASSUME THE ORIGINAL IMAGE. THE PICKLED DATA CONTAINS RESIZED VERSIONS (32 by 32) OF THESE IMAGES**\n",
        "\n",
        "Complete the basic data summary below. Use python, numpy and/or pandas methods to calculate the data summary rather than hard coding the results. For example, the [pandas shape method](http://pandas.pydata.org/pandas-docs/stable/generated/pandas.DataFrame.shape.html) might be useful for calculating some of the summary results. "
      ]
    },
    {
      "cell_type": "code",
      "metadata": {
        "id": "YozAdiOdKEXN",
        "colab_type": "code",
        "outputId": "575567ac-d1aa-4eea-fdd5-9a57959ab029",
        "colab": {
          "base_uri": "https://localhost:8080/",
          "height": 84
        }
      },
      "source": [
        "\n",
        "\n",
        "# TODO: Number of training examples\n",
        "n_train = len(X_train)\n",
        "\n",
        "# TODO: Number of testing examples.\n",
        "n_test = len(X_test)\n",
        "\n",
        "# TODO: What's the shape of an traffic sign image?\n",
        "image_shape = X_train[0].shape\n",
        "\n",
        "# TODO: How many unique classes/labels there are in the dataset.\n",
        "n_classes = len(np.unique(y_train))\n",
        "\n",
        "print(\"Number of training examples =\", n_train)\n",
        "print(\"Number of testing examples =\", n_test)\n",
        "print(\"Image data shape =\", image_shape)\n",
        "print(\"Number of classes =\", n_classes)"
      ],
      "execution_count": 0,
      "outputs": [
        {
          "output_type": "stream",
          "text": [
            "Number of training examples = 34799\n",
            "Number of testing examples = 12630\n",
            "Image data shape = (32, 32, 3)\n",
            "Number of classes = 43\n"
          ],
          "name": "stdout"
        }
      ]
    },
    {
      "cell_type": "code",
      "metadata": {
        "id": "eY9pTPYVLIVs",
        "colab_type": "code",
        "outputId": "8eebcb7b-d7f1-4e04-b284-aeb79bce75fa",
        "colab": {
          "base_uri": "https://localhost:8080/",
          "height": 101
        }
      },
      "source": [
        "print(y_train)\n",
        "y_train.shape\n",
        "print(n_classes)\n",
        "np.unique(y_train)"
      ],
      "execution_count": 0,
      "outputs": [
        {
          "output_type": "stream",
          "text": [
            "[41 41 41 ... 25 25 25]\n",
            "43\n"
          ],
          "name": "stdout"
        },
        {
          "output_type": "execute_result",
          "data": {
            "text/plain": [
              "array([ 0,  1,  2,  3,  4,  5,  6,  7,  8,  9, 10, 11, 12, 13, 14, 15, 16,\n",
              "       17, 18, 19, 20, 21, 22, 23, 24, 25, 26, 27, 28, 29, 30, 31, 32, 33,\n",
              "       34, 35, 36, 37, 38, 39, 40, 41, 42], dtype=uint8)"
            ]
          },
          "metadata": {
            "tags": []
          },
          "execution_count": 6
        }
      ]
    },
    {
      "cell_type": "markdown",
      "metadata": {
        "id": "KElZkHMdG52h",
        "colab_type": "text"
      },
      "source": [
        "### Include an exploratory visualization of the dataset\n",
        "\n",
        "Visualize the German Traffic Signs Dataset using the pickled file(s). This is open ended, suggestions include: plotting traffic sign images, plotting the count of each sign, etc. \n",
        "\n",
        "The [Matplotlib](http://matplotlib.org/) [examples](http://matplotlib.org/examples/index.html) and [gallery](http://matplotlib.org/gallery.html) pages are a great resource for doing visualizations in Python.\n",
        "\n",
        "**NOTE:** It's recommended you start with something simple first. If you wish to do more, come back to it after you've completed the rest of the sections. It can be interesting to look at the distribution of classes in the training, validation and test set. Is the distribution the same? Are there more examples of some classes than others?"
      ]
    },
    {
      "cell_type": "code",
      "metadata": {
        "id": "HEX_tk6hG-mN",
        "colab_type": "code",
        "outputId": "7aff4bd2-8b33-4205-d965-5b9314e6b225",
        "colab": {
          "base_uri": "https://localhost:8080/",
          "height": 562
        }
      },
      "source": [
        "### Data exploration visualization code goes here.\n",
        "### Feel free to use as many code cells as needed.\n",
        "import seaborn as sns\n",
        "import matplotlib.pyplot as plt\n",
        "# Visualizations will be shown in the notebook.\n",
        "%matplotlib inline\n",
        "\n",
        "plt.figure(figsize=(8,8))\n",
        "sns.set(style=\"darkgrid\")\n",
        "ax = sns.countplot(x=y_train)\n",
        "#plt.xticks(range(n_classes), np.unique(y_train), rotation='vertical')\n",
        "plt.xticks(rotation='vertical')\n",
        "\n"
      ],
      "execution_count": 0,
      "outputs": [
        {
          "output_type": "execute_result",
          "data": {
            "text/plain": [
              "(array([ 0,  1,  2,  3,  4,  5,  6,  7,  8,  9, 10, 11, 12, 13, 14, 15, 16,\n",
              "        17, 18, 19, 20, 21, 22, 23, 24, 25, 26, 27, 28, 29, 30, 31, 32, 33,\n",
              "        34, 35, 36, 37, 38, 39, 40, 41, 42]),\n",
              " <a list of 43 Text xticklabel objects>)"
            ]
          },
          "metadata": {
            "tags": []
          },
          "execution_count": 7
        },
        {
          "output_type": "display_data",
          "data": {
            "image/png": "[encoded data removed]",
            "text/plain": [
              "<Figure size 576x576 with 1 Axes>"
            ]
          },
          "metadata": {
            "tags": []
          }
        }
      ]
    },
    {
      "cell_type": "markdown",
      "metadata": {
        "id": "Z_ZEYBryQLhD",
        "colab_type": "text"
      },
      "source": [
        "----\n",
        "\n",
        "## Step 2: Design and Test a Model Architecture\n",
        "\n",
        "Design and implement a deep learning model that learns to recognize traffic signs. Train and test your model on the [German Traffic Sign Dataset](http://benchmark.ini.rub.de/?section=gtsrb&subsection=dataset).\n",
        "\n",
        "The LeNet-5 implementation shown in the [classroom](https://classroom.udacity.com/nanodegrees/nd013/parts/fbf77062-5703-404e-b60c-95b78b2f3f9e/modules/6df7ae49-c61c-4bb2-a23e-6527e69209ec/lessons/601ae704-1035-4287-8b11-e2c2716217ad/concepts/d4aca031-508f-4e0b-b493-e7b706120f81) at the end of the CNN lesson is a solid starting point. You'll have to change the number of classes and possibly the preprocessing, but aside from that it's plug and play! \n",
        "\n",
        "With the LeNet-5 solution from the lecture, you should expect a validation set accuracy of about 0.89. To meet specifications, the validation set accuracy will need to be at least 0.93. It is possible to get an even higher accuracy, but 0.93 is the minimum for a successful project submission. \n",
        "\n",
        "There are various aspects to consider when thinking about this problem:\n",
        "\n",
        "- Neural network architecture (is the network over or underfitting?)\n",
        "- Play around preprocessing techniques (normalization, rgb to grayscale, etc)\n",
        "- Number of examples per label (some have more than others).\n",
        "- Generate fake data.\n",
        "\n",
        "Here is an example of a [published baseline model on this problem](http://yann.lecun.com/exdb/publis/pdf/sermanet-ijcnn-11.pdf). It's not required to be familiar with the approach used in the paper but, it's good practice to try to read papers like these."
      ]
    },
    {
      "cell_type": "markdown",
      "metadata": {
        "id": "H_BQCOLQQQia",
        "colab_type": "text"
      },
      "source": [
        "### Pre-process the Data Set (normalization, grayscale, etc.)\n",
        "Minimally, the image data should be normalized so that the data has mean zero and equal variance. For image data, `(pixel - 128)/ 128` is a quick way to approximately normalize the data and can be used in this project. \n",
        "\n",
        "Other pre-processing steps are optional. You can try different techniques to see if it improves performance. \n",
        "\n",
        "Use the code cell (or multiple code cells, if necessary) to implement the first step of your project."
      ]
    },
    {
      "cell_type": "code",
      "metadata": {
        "id": "8DrJi6E6QMKO",
        "colab_type": "code",
        "outputId": "de4d5bee-2fd6-4200-9b8c-fae25515353a",
        "colab": {
          "base_uri": "https://localhost:8080/",
          "height": 84
        }
      },
      "source": [
        "from sklearn.utils import shuffle\n",
        "\n",
        "print(np.mean(X_train))\n",
        "print(np.mean(X_test))\n",
        "\n",
        "## Normalization\n",
        "\n",
        "X_train_n = (X_train.astype(np.float32) - 128) / 128\n",
        "X_test_n = (X_test.astype(np.float32) - 128)/128\n",
        "\n",
        "print(np.mean(X_train_n))\n",
        "print(np.mean(X_test_n))\n",
        "\n",
        "\n",
        "X_train, y_train = shuffle(X_train, y_train)\n"
      ],
      "execution_count": 0,
      "outputs": [
        {
          "output_type": "stream",
          "text": [
            "82.6775890369964\n",
            "82.14846036120183\n",
            "-0.35408133\n",
            "-0.35821554\n"
          ],
          "name": "stdout"
        }
      ]
    },
    {
      "cell_type": "markdown",
      "metadata": {
        "id": "5VdVGKO_ThYh",
        "colab_type": "text"
      },
      "source": [
        "### Model Architecture"
      ]
    },
    {
      "cell_type": "code",
      "metadata": {
        "id": "i5X_aPm4Ta5N",
        "colab_type": "code",
        "colab": {}
      },
      "source": [
        "### Define your architecture here.\n",
        "### Feel free to use as many code cells as needed.\n",
        "\n",
        "import tensorflow as tf\n",
        "\n",
        "EPOCHS = 100\n",
        "BATCH_SIZE = 32"
      ],
      "execution_count": 0,
      "outputs": []
    },
    {
      "cell_type": "code",
      "metadata": {
        "id": "yShywVUWU3tf",
        "colab_type": "code",
        "outputId": "8456066b-c856-449a-ef8d-fb40a8de7b29",
        "colab": {
          "base_uri": "https://localhost:8080/",
          "height": 70
        }
      },
      "source": [
        "from tensorflow.contrib.layers import flatten\n",
        "sess = tf.InteractiveSession()\n",
        "\n",
        "def LeNet(x):    \n",
        "    # Arguments used for tf.truncated_normal, randomly defines variables for the weights and biases for each layer\n",
        "    mu = 0\n",
        "    sigma = 0.1\n",
        "    \n",
        "    # SOLUTION: Layer 1: Convolutional. Input = 32x32x1. Output = 28x28x6.\n",
        "    conv1_W = tf.Variable(tf.truncated_normal(shape=(3, 3, 3, 16), mean = mu, stddev = sigma))\n",
        "    conv1_b = tf.Variable(tf.zeros(16))\n",
        "    conv1   = tf.nn.conv2d(x, conv1_W, strides=[1, 1, 1, 1], padding='VALID') + conv1_b\n",
        "    print(\"layer 1 shape:\",conv1.get_shape())\n",
        "    \n",
        "    # SOLUTION: Activation.\n",
        "    conv1 = tf.nn.relu(conv1)\n",
        "\n",
        "    # SOLUTION: Pooling. Input = 28x28x6. Output = 14x14x6.\n",
        "    conv1 = tf.nn.max_pool(conv1, ksize=[1, 2, 2, 1], strides=[1, 2, 2, 1], padding='VALID')\n",
        "\n",
        "    # SOLUTION: Layer 2: Convolutional. Output = 10x10x16.\n",
        "    conv2_W = tf.Variable(tf.truncated_normal(shape=(3, 3, 16, 16), mean = mu, stddev = sigma))\n",
        "    conv2_b = tf.Variable(tf.zeros(16))\n",
        "    conv2   = tf.nn.conv2d(conv1, conv2_W, strides=[1, 1, 1, 1], padding='VALID') + conv2_b\n",
        "    \n",
        "    # SOLUTION: Activation.\n",
        "    conv2 = tf.nn.relu(conv2)\n",
        "\n",
        "    # SOLUTION: Pooling. Input = 10x10x16. Output = 5x5x16.\n",
        "    conv2 = tf.nn.max_pool(conv2, ksize=[1, 2, 2, 1], strides=[1, 2, 2, 1], padding='VALID')\n",
        "\n",
        "    # SOLUTION: Flatten. Input = 5x5x16. Output = 400.\n",
        "    fc0   = flatten(conv2)\n",
        "    \n",
        "    # SOLUTION: Layer 3: Fully Connected. Input = 400. Output = 120.\n",
        "    fc1_W = tf.Variable(tf.truncated_normal(shape=(576, 120), mean = mu, stddev = sigma))\n",
        "    fc1_b = tf.Variable(tf.zeros(120))\n",
        "    fc1   = tf.matmul(fc0, fc1_W) + fc1_b\n",
        "    \n",
        "    # SOLUTION: Activation.\n",
        "    fc1    = tf.nn.relu(fc1)\n",
        "    \n",
        "    # SOLUTION: Dropout.\n",
        "    fc1 = tf.nn.dropout(fc1, keep_prob)\n",
        "\n",
        "    # SOLUTION: Layer 4: Fully Connected. Input = 120. Output = 84.\n",
        "    fc2_W  = tf.Variable(tf.truncated_normal(shape=(120, 84), mean = mu, stddev = sigma))\n",
        "    fc2_b  = tf.Variable(tf.zeros(84))\n",
        "    fc2    = tf.matmul(fc1, fc2_W) + fc2_b\n",
        "    \n",
        "    # SOLUTION: Activation.\n",
        "    fc2    = tf.nn.relu(fc2)\n",
        "    \n",
        "    # SOLUTION: Dropout.\n",
        "    fc2 = tf.nn.dropout(fc2, keep_prob)\n",
        "\n",
        "    # SOLUTION: Layer 5: Fully Connected. Input = 84. Output = 10.\n",
        "    fc3_W  = tf.Variable(tf.truncated_normal(shape=(84, 43), mean = mu, stddev = sigma))\n",
        "    fc3_b  = tf.Variable(tf.zeros(43))\n",
        "    logits = tf.matmul(fc2, fc3_W) + fc3_b\n",
        "    \n",
        "    return logits\n"
      ],
      "execution_count": 0,
      "outputs": [
        {
          "output_type": "stream",
          "text": [
            "/usr/local/lib/python3.6/dist-packages/tensorflow/python/client/session.py:1702: UserWarning: An interactive session is already active. This can cause out-of-memory errors in some cases. You must explicitly call `InteractiveSession.close()` to release resources held by the other session(s).\n",
            "  warnings.warn('An interactive session is already active. This can '\n"
          ],
          "name": "stderr"
        }
      ]
    },
    {
      "cell_type": "code",
      "metadata": {
        "id": "DR1d_0N6XYvf",
        "colab_type": "code",
        "colab": {}
      },
      "source": [
        "x = tf.placeholder(tf.float32, (None, 32, 32, 3))\n",
        "y = tf.placeholder(tf.int32, (None))\n",
        "one_hot_y = tf.one_hot(y, 43)\n",
        "keep_prob = tf.placeholder(tf.float32) # probability to keep units"
      ],
      "execution_count": 0,
      "outputs": []
    },
    {
      "cell_type": "markdown",
      "metadata": {
        "id": "XeQankcQYKYM",
        "colab_type": "text"
      },
      "source": [
        "## Training Pipeline\n",
        "Create a training pipeline that uses the model to classify MNIST data.\n",
        "\n",
        "You do not need to modify this section."
      ]
    },
    {
      "cell_type": "code",
      "metadata": {
        "id": "MFmyiV40Xos4",
        "colab_type": "code",
        "outputId": "82b69715-3a73-46cb-ec88-53d92c15db28",
        "colab": {
          "base_uri": "https://localhost:8080/",
          "height": 34
        }
      },
      "source": [
        "rate = 0.001\n",
        "\n",
        "logits = LeNet(x)\n",
        "cross_entropy = tf.nn.softmax_cross_entropy_with_logits(labels=one_hot_y, logits=logits)\n",
        "loss_operation = tf.reduce_mean(cross_entropy)\n",
        "optimizer = tf.train.AdamOptimizer(learning_rate = rate)\n",
        "training_operation = optimizer.minimize(loss_operation)"
      ],
      "execution_count": 0,
      "outputs": [
        {
          "output_type": "stream",
          "text": [
            "layer 1 shape: (?, 30, 30, 16)\n"
          ],
          "name": "stdout"
        }
      ]
    },
    {
      "cell_type": "markdown",
      "metadata": {
        "id": "Zd7mkKSxXvw0",
        "colab_type": "text"
      },
      "source": [
        "##Model Evaluation\n",
        "Evaluate how well the loss and accuracy of the model for a given dataset.\n",
        "\n",
        "You do not need to modify this section."
      ]
    },
    {
      "cell_type": "code",
      "metadata": {
        "id": "VXDp_WujXulr",
        "colab_type": "code",
        "colab": {}
      },
      "source": [
        "correct_prediction = tf.equal(tf.argmax(logits, 1), tf.argmax(one_hot_y, 1))\n",
        "accuracy_operation = tf.reduce_mean(tf.cast(correct_prediction, tf.float32))\n",
        "saver = tf.train.Saver()\n",
        "\n",
        "def evaluate(X_data, y_data):\n",
        "    num_examples = len(X_data)\n",
        "    total_accuracy = 0\n",
        "    sess = tf.get_default_session()\n",
        "    for offset in range(0, num_examples, BATCH_SIZE):\n",
        "        batch_x, batch_y = X_data[offset:offset+BATCH_SIZE], y_data[offset:offset+BATCH_SIZE]\n",
        "        accuracy = sess.run(accuracy_operation, feed_dict={x: batch_x, y: batch_y, keep_prob: 1.0})\n",
        "        total_accuracy += (accuracy * len(batch_x))\n",
        "    return total_accuracy / num_examples"
      ],
      "execution_count": 0,
      "outputs": []
    },
    {
      "cell_type": "markdown",
      "metadata": {
        "id": "8YmjsosSYm7v",
        "colab_type": "text"
      },
      "source": [
        "## Train the Model\n",
        "Run the training data through the training pipeline to train the model.\n",
        "\n",
        "Before each epoch, shuffle the training set.\n",
        "\n",
        "After each epoch, measure the loss and accuracy of the validation set.\n",
        "\n",
        "Save the model after training.\n",
        "\n",
        "You do not need to modify this section."
      ]
    },
    {
      "cell_type": "code",
      "metadata": {
        "id": "uMh_q_UJYAWE",
        "colab_type": "code",
        "outputId": "bfb12b94-9b27-4c01-c198-3483310fa813",
        "colab": {
          "base_uri": "https://localhost:8080/",
          "height": 5107
        }
      },
      "source": [
        "with tf.Session() as sess:\n",
        "    sess.run(tf.global_variables_initializer())\n",
        "    num_examples = len(X_train)\n",
        "    \n",
        "    print(\"Training...\")\n",
        "    print()\n",
        "    for i in range(EPOCHS):\n",
        "        X_train, y_train = shuffle(X_train, y_train)\n",
        "        for offset in range(0, num_examples, BATCH_SIZE):\n",
        "            end = offset + BATCH_SIZE\n",
        "            batch_x, batch_y = X_train[offset:end], y_train[offset:end]\n",
        "            sess.run(training_operation, feed_dict={x: batch_x, y: batch_y, keep_prob: 0.5})\n",
        "            \n",
        "        validation_accuracy = evaluate(X_valid, y_valid)\n",
        "        print(\"EPOCH {} ...\".format(i+1))\n",
        "        print(\"Validation Accuracy = {:.3f}\".format(validation_accuracy))\n",
        "        print()\n",
        "        \n",
        "    saver.save(sess, 'lenet')\n",
        "    print(\"Model saved\")"
      ],
      "execution_count": 0,
      "outputs": [
        {
          "output_type": "stream",
          "text": [
            "Training...\n",
            "\n",
            "EPOCH 1 ...\n",
            "Validation Accuracy = 0.233\n",
            "\n",
            "EPOCH 2 ...\n",
            "Validation Accuracy = 0.426\n",
            "\n",
            "EPOCH 3 ...\n",
            "Validation Accuracy = 0.550\n",
            "\n",
            "EPOCH 4 ...\n",
            "Validation Accuracy = 0.602\n",
            "\n",
            "EPOCH 5 ...\n",
            "Validation Accuracy = 0.687\n",
            "\n",
            "EPOCH 6 ...\n",
            "Validation Accuracy = 0.748\n",
            "\n",
            "EPOCH 7 ...\n",
            "Validation Accuracy = 0.781\n",
            "\n",
            "EPOCH 8 ...\n",
            "Validation Accuracy = 0.785\n",
            "\n",
            "EPOCH 9 ...\n",
            "Validation Accuracy = 0.806\n",
            "\n",
            "EPOCH 10 ...\n",
            "Validation Accuracy = 0.825\n",
            "\n",
            "EPOCH 11 ...\n",
            "Validation Accuracy = 0.826\n",
            "\n",
            "EPOCH 12 ...\n",
            "Validation Accuracy = 0.861\n",
            "\n",
            "EPOCH 13 ...\n",
            "Validation Accuracy = 0.866\n",
            "\n",
            "EPOCH 14 ...\n",
            "Validation Accuracy = 0.868\n",
            "\n",
            "EPOCH 15 ...\n",
            "Validation Accuracy = 0.883\n",
            "\n",
            "EPOCH 16 ...\n",
            "Validation Accuracy = 0.878\n",
            "\n",
            "EPOCH 17 ...\n",
            "Validation Accuracy = 0.891\n",
            "\n",
            "EPOCH 18 ...\n",
            "Validation Accuracy = 0.889\n",
            "\n",
            "EPOCH 19 ...\n",
            "Validation Accuracy = 0.891\n",
            "\n",
            "EPOCH 20 ...\n",
            "Validation Accuracy = 0.882\n",
            "\n",
            "EPOCH 21 ...\n",
            "Validation Accuracy = 0.913\n",
            "\n",
            "EPOCH 22 ...\n",
            "Validation Accuracy = 0.886\n",
            "\n",
            "EPOCH 23 ...\n",
            "Validation Accuracy = 0.891\n",
            "\n",
            "EPOCH 24 ...\n",
            "Validation Accuracy = 0.912\n",
            "\n",
            "EPOCH 25 ...\n",
            "Validation Accuracy = 0.908\n",
            "\n",
            "EPOCH 26 ...\n",
            "Validation Accuracy = 0.907\n",
            "\n",
            "EPOCH 27 ...\n",
            "Validation Accuracy = 0.909\n",
            "\n",
            "EPOCH 28 ...\n",
            "Validation Accuracy = 0.913\n",
            "\n",
            "EPOCH 29 ...\n",
            "Validation Accuracy = 0.917\n",
            "\n",
            "EPOCH 30 ...\n",
            "Validation Accuracy = 0.910\n",
            "\n",
            "EPOCH 31 ...\n",
            "Validation Accuracy = 0.917\n",
            "\n",
            "EPOCH 32 ...\n",
            "Validation Accuracy = 0.889\n",
            "\n",
            "EPOCH 33 ...\n",
            "Validation Accuracy = 0.907\n",
            "\n",
            "EPOCH 34 ...\n",
            "Validation Accuracy = 0.925\n",
            "\n",
            "EPOCH 35 ...\n",
            "Validation Accuracy = 0.912\n",
            "\n",
            "EPOCH 36 ...\n",
            "Validation Accuracy = 0.915\n",
            "\n",
            "EPOCH 37 ...\n",
            "Validation Accuracy = 0.922\n",
            "\n",
            "EPOCH 38 ...\n",
            "Validation Accuracy = 0.911\n",
            "\n",
            "EPOCH 39 ...\n",
            "Validation Accuracy = 0.907\n",
            "\n",
            "EPOCH 40 ...\n",
            "Validation Accuracy = 0.918\n",
            "\n",
            "EPOCH 41 ...\n",
            "Validation Accuracy = 0.920\n",
            "\n",
            "EPOCH 42 ...\n",
            "Validation Accuracy = 0.918\n",
            "\n",
            "EPOCH 43 ...\n",
            "Validation Accuracy = 0.912\n",
            "\n",
            "EPOCH 44 ...\n",
            "Validation Accuracy = 0.912\n",
            "\n",
            "EPOCH 45 ...\n",
            "Validation Accuracy = 0.915\n",
            "\n",
            "EPOCH 46 ...\n",
            "Validation Accuracy = 0.918\n",
            "\n",
            "EPOCH 47 ...\n",
            "Validation Accuracy = 0.917\n",
            "\n",
            "EPOCH 48 ...\n",
            "Validation Accuracy = 0.913\n",
            "\n",
            "EPOCH 49 ...\n",
            "Validation Accuracy = 0.920\n",
            "\n",
            "EPOCH 50 ...\n",
            "Validation Accuracy = 0.908\n",
            "\n",
            "EPOCH 51 ...\n",
            "Validation Accuracy = 0.920\n",
            "\n",
            "EPOCH 52 ...\n",
            "Validation Accuracy = 0.927\n",
            "\n",
            "EPOCH 53 ...\n",
            "Validation Accuracy = 0.912\n",
            "\n",
            "EPOCH 54 ...\n",
            "Validation Accuracy = 0.917\n",
            "\n",
            "EPOCH 55 ...\n",
            "Validation Accuracy = 0.907\n",
            "\n",
            "EPOCH 56 ...\n",
            "Validation Accuracy = 0.912\n",
            "\n",
            "EPOCH 57 ...\n",
            "Validation Accuracy = 0.926\n",
            "\n",
            "EPOCH 58 ...\n",
            "Validation Accuracy = 0.917\n",
            "\n",
            "EPOCH 59 ...\n",
            "Validation Accuracy = 0.919\n",
            "\n",
            "EPOCH 60 ...\n",
            "Validation Accuracy = 0.923\n",
            "\n",
            "EPOCH 61 ...\n",
            "Validation Accuracy = 0.917\n",
            "\n",
            "EPOCH 62 ...\n",
            "Validation Accuracy = 0.922\n",
            "\n",
            "EPOCH 63 ...\n",
            "Validation Accuracy = 0.931\n",
            "\n",
            "EPOCH 64 ...\n",
            "Validation Accuracy = 0.917\n",
            "\n",
            "EPOCH 65 ...\n",
            "Validation Accuracy = 0.922\n",
            "\n",
            "EPOCH 66 ...\n",
            "Validation Accuracy = 0.918\n",
            "\n",
            "EPOCH 67 ...\n",
            "Validation Accuracy = 0.927\n",
            "\n",
            "EPOCH 68 ...\n",
            "Validation Accuracy = 0.916\n",
            "\n",
            "EPOCH 69 ...\n",
            "Validation Accuracy = 0.920\n",
            "\n",
            "EPOCH 70 ...\n",
            "Validation Accuracy = 0.933\n",
            "\n",
            "EPOCH 71 ...\n",
            "Validation Accuracy = 0.930\n",
            "\n",
            "EPOCH 72 ...\n",
            "Validation Accuracy = 0.928\n",
            "\n",
            "EPOCH 73 ...\n",
            "Validation Accuracy = 0.929\n",
            "\n",
            "EPOCH 74 ...\n",
            "Validation Accuracy = 0.934\n",
            "\n",
            "EPOCH 75 ...\n",
            "Validation Accuracy = 0.919\n",
            "\n",
            "EPOCH 76 ...\n",
            "Validation Accuracy = 0.930\n",
            "\n",
            "EPOCH 77 ...\n",
            "Validation Accuracy = 0.922\n",
            "\n",
            "EPOCH 78 ...\n",
            "Validation Accuracy = 0.921\n",
            "\n",
            "EPOCH 79 ...\n",
            "Validation Accuracy = 0.896\n",
            "\n",
            "EPOCH 80 ...\n",
            "Validation Accuracy = 0.930\n",
            "\n",
            "EPOCH 81 ...\n",
            "Validation Accuracy = 0.911\n",
            "\n",
            "EPOCH 82 ...\n",
            "Validation Accuracy = 0.923\n",
            "\n",
            "EPOCH 83 ...\n",
            "Validation Accuracy = 0.918\n",
            "\n",
            "EPOCH 84 ...\n",
            "Validation Accuracy = 0.920\n",
            "\n",
            "EPOCH 85 ...\n",
            "Validation Accuracy = 0.914\n",
            "\n",
            "EPOCH 86 ...\n",
            "Validation Accuracy = 0.927\n",
            "\n",
            "EPOCH 87 ...\n",
            "Validation Accuracy = 0.932\n",
            "\n",
            "EPOCH 88 ...\n",
            "Validation Accuracy = 0.933\n",
            "\n",
            "EPOCH 89 ...\n",
            "Validation Accuracy = 0.930\n",
            "\n",
            "EPOCH 90 ...\n",
            "Validation Accuracy = 0.929\n",
            "\n",
            "EPOCH 91 ...\n",
            "Validation Accuracy = 0.932\n",
            "\n",
            "EPOCH 92 ...\n",
            "Validation Accuracy = 0.942\n",
            "\n",
            "EPOCH 93 ...\n",
            "Validation Accuracy = 0.920\n",
            "\n",
            "EPOCH 94 ...\n",
            "Validation Accuracy = 0.917\n",
            "\n",
            "EPOCH 95 ...\n",
            "Validation Accuracy = 0.928\n",
            "\n",
            "EPOCH 96 ...\n",
            "Validation Accuracy = 0.884\n",
            "\n",
            "EPOCH 97 ...\n",
            "Validation Accuracy = 0.924\n",
            "\n",
            "EPOCH 98 ...\n",
            "Validation Accuracy = 0.925\n",
            "\n",
            "EPOCH 99 ...\n",
            "Validation Accuracy = 0.927\n",
            "\n",
            "EPOCH 100 ...\n",
            "Validation Accuracy = 0.941\n",
            "\n",
            "Model saved\n"
          ],
          "name": "stdout"
        }
      ]
    },
    {
      "cell_type": "markdown",
      "metadata": {
        "id": "7A_qpZLVjfnn",
        "colab_type": "text"
      },
      "source": [
        "---\n",
        "\n",
        "## Step 3: Test a Model on New Images\n",
        "\n",
        "To give yourself more insight into how your model is working, download at least five pictures of German traffic signs from the web and use your model to predict the traffic sign type.\n",
        "\n",
        "You may find `signnames.csv` useful as it contains mappings from the class id (integer) to the actual sign name."
      ]
    },
    {
      "cell_type": "code",
      "metadata": {
        "id": "HDcPVdqsaTRT",
        "colab_type": "code",
        "colab": {}
      },
      "source": [
        ""
      ],
      "execution_count": 0,
      "outputs": []
    },
    {
      "cell_type": "code",
      "metadata": {
        "id": "IrGm9xncZGg9",
        "colab_type": "code",
        "colab": {}
      },
      "source": [
        ""
      ],
      "execution_count": 0,
      "outputs": []
    }
  ]
}